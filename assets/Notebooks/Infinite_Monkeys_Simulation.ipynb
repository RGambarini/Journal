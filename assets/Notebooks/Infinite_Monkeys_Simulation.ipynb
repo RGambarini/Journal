{
  "cells": [
    {
      "cell_type": "markdown",
      "metadata": {
        "id": "qCYIy_lSNWiB"
      },
      "source": [
        "1973 IBM Selectric 721\n",
        "\n",
        "https://typewriterdatabase.com/1973-ibm-selectric-721.19605.typewriter"
      ]
    },
    {
      "cell_type": "code",
      "execution_count": 1,
      "metadata": {
        "colab": {
          "base_uri": "https://localhost:8080/"
        },
        "id": "L1_9vn5H2kFU",
        "outputId": "e800a416-929f-4209-e330-933ee7f3a735"
      },
      "outputs": [
        {
          "output_type": "stream",
          "name": "stdout",
          "text": [
            "Writing random_number.cpp\n"
          ]
        }
      ],
      "source": [
        "%%writefile random_number.cpp\n",
        "#include <sodium.h>\n",
        "#include <stdio.h>\n",
        "#include <vector>\n",
        "#include <string>\n",
        "\n",
        "int main(void)\n",
        "{\n",
        "    if (sodium_init() < 0) {\n",
        "        printf(\"Error initializing libsodium\\n\");\n",
        "        return 1;\n",
        "    }\n",
        "\n",
        "    uint32_t upper_bound = 128; // 2^7\n",
        "    std::vector<std::string> existing_numbers = {\"0000000\", \"0000001\", \"0000010\", \"0000011\", \n",
        "                             \"0000100\", \"0000101\", \"0000110\", \"0000111\", \n",
        "                             \"0001000\", \"0001010\", \"0001011\", \"0001100\", \"0001110\", \"0001111\",\n",
        "                             \"0010000\", \"0010001\", \"0010010\", \n",
        "                             \"0010011\", \"0010100\", \"0010101\", \"0010110\", \n",
        "                             \"0010111\", \"0011000\", \"0011001\", \"0011010\", \n",
        "                             \"0011011\", \"0011100\", \"0011101\", \"0011110\", \n",
        "                             \"0011111\", \"0111100\", \"0111110\",\n",
        "                             \"1011110\", \n",
        "                             \"1100000\", \"1111011\", \"1111100\", \"1111101\", \n",
        "                             \"1111110\", \"1111111\"};\n",
        "\n",
        "\n",
        "    std::string random_number_string;\n",
        "    uint32_t random_number;\n",
        "    bool number_exists = true;\n",
        "    while (number_exists) {\n",
        "        random_number = randombytes_uniform(upper_bound);\n",
        "        random_number_string.clear();\n",
        "        for (int i = 6; i >= 0; i--) {\n",
        "            random_number_string += ((random_number >> i) & 1) + '0';\n",
        "        }\n",
        "\n",
        "        number_exists = false;\n",
        "        for (const std::string& existing_number : existing_numbers) {\n",
        "            if (existing_number == random_number_string) {\n",
        "                number_exists = true;\n",
        "                break;\n",
        "            }\n",
        "        }\n",
        "    }\n",
        "\n",
        "    printf(\"%s\\n\", random_number_string.c_str());\n",
        "\n",
        "    return 0;\n",
        "}\n",
        "\n"
      ]
    },
    {
      "cell_type": "code",
      "execution_count": 2,
      "metadata": {
        "id": "FohzG_mea1Io"
      },
      "outputs": [],
      "source": [
        "!g++ random_number.cpp -o random_number -L /lib/x86_64-linux-gnu -lsodium"
      ]
    },
    {
      "cell_type": "code",
      "execution_count": 3,
      "metadata": {
        "colab": {
          "base_uri": "https://localhost:8080/"
        },
        "id": "gUJ-GsXn26Wa",
        "outputId": "09ea177b-57a0-4baa-8bbd-480ebb5ff5de"
      },
      "outputs": [
        {
          "output_type": "stream",
          "name": "stdout",
          "text": [
            "Writing binary_numbers.cpp\n"
          ]
        }
      ],
      "source": [
        "%%writefile binary_numbers.cpp\n",
        "#include <iostream>\n",
        "#include <fstream>\n",
        "#include <cstring>\n",
        "#include <unistd.h>\n",
        "\n",
        "int main(int argc, char *argv[]) {\n",
        "  if (argc < 2) {\n",
        "    std::cerr << \"Usage: \" << argv[0] << \" <filename>\" << std::endl;\n",
        "    return 1;\n",
        "  }\n",
        "\n",
        "  // Create a binary file with 7-bit ASCII encoding\n",
        "  std::ofstream binaryFile(argv[1], std::ios::out | std::ios::binary);\n",
        "  if (!binaryFile) {\n",
        "    std::cerr << \"Unable to create binary file.\" << std::endl;\n",
        "    return 1;\n",
        "  }\n",
        "\n",
        "  bool continueRunning = true;\n",
        "  while (continueRunning) {\n",
        "    // Get binary data from the command system(\"./random_number\")\n",
        "    std::string binaryData;\n",
        "    char buffer[256];\n",
        "    memset(buffer, 0, sizeof(buffer));\n",
        "    FILE* pipe = popen(\"./random_number\", \"r\");\n",
        "    if (!pipe) {\n",
        "      std::cerr << \"Unable to run command.\" << std::endl;\n",
        "      return 1;\n",
        "    }\n",
        "    while (fgets(buffer, sizeof(buffer), pipe) != NULL) {\n",
        "      binaryData += buffer;\n",
        "    }\n",
        "    pclose(pipe);\n",
        "\n",
        "    // Append binary data to the binary file\n",
        "    binaryFile.write(binaryData.c_str(), binaryData.length());\n",
        "\n",
        "    std::cout << \".\"; // Replace with a short message to show that the program is running\n",
        "\n",
        "    // Wait for a few seconds before repeating\n",
        "    sleep(0); // Replace with the appropriate time interval\n",
        "  }\n",
        "\n",
        "  binaryFile.close();\n",
        "  return 0;\n",
        "}"
      ]
    },
    {
      "cell_type": "code",
      "source": [
        "!g++ binary_numbers.cpp -o binary_numbers"
      ],
      "metadata": {
        "id": "0_IvyXWZySMr"
      },
      "execution_count": 4,
      "outputs": []
    },
    {
      "cell_type": "code",
      "execution_count": 5,
      "metadata": {
        "id": "AW5hVdejS2pJ"
      },
      "outputs": [],
      "source": [
        "import time\n",
        "import multiprocessing\n",
        "import os\n",
        "\n",
        "def task(process_num, binary_path, output_dir):\n",
        "    filename = os.path.join(output_dir, f'file{process_num}.bin')\n",
        "    if os.path.exists(filename):\n",
        "        mode = 'ab'  # append if file exists\n",
        "    else:\n",
        "        mode = 'wb'  # write new file if not exists\n",
        "    with open(filename, mode) as f:\n",
        "        os.system(f'{binary_path} {filename}')\n",
        "\n",
        "def monkey_simulation(proc, binary_path, output_dir):\n",
        "    while True:\n",
        "        processes = []\n",
        "        for i in range(proc):\n",
        "            p = multiprocessing.Process(target=task, args=(i+1, binary_path, output_dir))\n",
        "            p.start()\n",
        "            processes.append(p)\n",
        "\n",
        "        for p in processes:\n",
        "            p.join()\n",
        "\n",
        "        time.sleep(1)  # Wait for a second before starting a new set of processes\n",
        "\n"
      ]
    },
    {
      "cell_type": "code",
      "execution_count": 6,
      "metadata": {
        "colab": {
          "base_uri": "https://localhost:8080/"
        },
        "id": "ez9HxUgmolEg",
        "outputId": "864e7439-4632-4286-8ffa-5d5486ab13fc"
      },
      "outputs": [
        {
          "output_type": "stream",
          "name": "stdout",
          "text": [
            "Directory created: /content/drive/MyDrive/Monkey/Simulation/2023-03-03_15-35-58\n"
          ]
        }
      ],
      "source": [
        "import os\n",
        "from datetime import datetime\n",
        "\n",
        "# Set the directory where you want to create the folder\n",
        "directory = \"/content/drive/MyDrive/Monkey/Simulation\"\n",
        "\n",
        "# Get the current date and time in the required format\n",
        "now = datetime.now()\n",
        "date_time = now.strftime(\"%Y-%m-%d_%H-%M-%S\")\n",
        "\n",
        "# Create a new directory with the current date and time as its name\n",
        "new_folder = os.path.join(directory, date_time)\n",
        "if not os.path.exists(new_folder):\n",
        "    os.makedirs(new_folder)\n",
        "    print(f\"Directory created: {new_folder}\")\n",
        "else:\n",
        "    print(f\"Directory {new_folder} already exists\")\n"
      ]
    },
    {
      "cell_type": "code",
      "execution_count": null,
      "metadata": {
        "id": "xq6g1-MbmIat"
      },
      "outputs": [],
      "source": [
        "monkey_simulation(120, '/content/binary_numbers', new_folder)"
      ]
    },
    {
      "cell_type": "code",
      "source": [],
      "metadata": {
        "id": "R9SvkCn9X5XW"
      },
      "execution_count": null,
      "outputs": []
    }
  ],
  "metadata": {
    "colab": {
      "machine_shape": "hm",
      "provenance": []
    },
    "gpuClass": "premium",
    "kernelspec": {
      "display_name": "Python 3",
      "name": "python3"
    },
    "language_info": {
      "name": "python"
    }
  },
  "nbformat": 4,
  "nbformat_minor": 0
}