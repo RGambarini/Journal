{
  "nbformat": 4,
  "nbformat_minor": 0,
  "metadata": {
    "colab": {
      "provenance": []
    },
    "kernelspec": {
      "name": "python3",
      "display_name": "Python 3"
    },
    "language_info": {
      "name": "python"
    }
  },
  "cells": [
    {
      "cell_type": "code",
      "execution_count": 2,
      "metadata": {
        "colab": {
          "base_uri": "https://localhost:8080/"
        },
        "id": "m6K0fDxfohmf",
        "outputId": "2ffbf4aa-f614-4fb7-fcc2-0f97370ec159"
      },
      "outputs": [
        {
          "output_type": "stream",
          "name": "stdout",
          "text": [
            "--2023-03-04 22:33:05--  https://www.gutenberg.org/ebooks/100.txt.utf-8\n",
            "Resolving www.gutenberg.org (www.gutenberg.org)... 152.19.134.47, 2610:28:3090:3000:0:bad:cafe:47\n",
            "Connecting to www.gutenberg.org (www.gutenberg.org)|152.19.134.47|:443... connected.\n",
            "HTTP request sent, awaiting response... 302 Found\n",
            "Location: https://www.gutenberg.org/cache/epub/100/pg100.txt [following]\n",
            "--2023-03-04 22:33:07--  https://www.gutenberg.org/cache/epub/100/pg100.txt\n",
            "Reusing existing connection to www.gutenberg.org:443.\n",
            "HTTP request sent, awaiting response... 200 OK\n",
            "Length: 5714773 (5.4M) [text/plain]\n",
            "Saving to: ‘Shakespeare.txt’\n",
            "\n",
            "Shakespeare.txt     100%[===================>]   5.45M  3.51MB/s    in 1.6s    \n",
            "\n",
            "2023-03-04 22:33:08 (3.51 MB/s) - ‘Shakespeare.txt’ saved [5714773/5714773]\n",
            "\n"
          ]
        }
      ],
      "source": [
        "!wget -O Shakespeare.txt https://www.gutenberg.org/ebooks/100.txt.utf-8\n",
        "!sed -i '1,83d' Shakespeare.txt\n",
        "!sed -i '176236,176587d' Shakespeare.txt"
      ]
    },
    {
      "cell_type": "code",
      "source": [
        "import string\n",
        "\n",
        "def count_word_lengths(file_path):\n",
        "    word_length_count = {}\n",
        "    with open(file_path, 'r') as f:\n",
        "        for line in f:\n",
        "            line = line.strip()\n",
        "            words = line.split()\n",
        "            for word in words:\n",
        "                # remove punctuation marks\n",
        "                word = word.translate(str.maketrans('', '', string.punctuation))\n",
        "                length = len(word)\n",
        "                if length == 0:\n",
        "                    continue\n",
        "                if length not in word_length_count:\n",
        "                    word_length_count[length] = 1\n",
        "                else:\n",
        "                    word_length_count[length] += 1\n",
        "    return word_length_count\n"
      ],
      "metadata": {
        "id": "HA695ZjBBPqD"
      },
      "execution_count": 3,
      "outputs": []
    },
    {
      "cell_type": "code",
      "source": [
        "char_counts = count_word_lengths(\"Shakespeare.txt\")"
      ],
      "metadata": {
        "id": "enwXP-FlBSU3"
      },
      "execution_count": 4,
      "outputs": []
    },
    {
      "cell_type": "code",
      "source": [
        "sum(char_counts.values())"
      ],
      "metadata": {
        "colab": {
          "base_uri": "https://localhost:8080/"
        },
        "id": "dqZk8BFJFvPO",
        "outputId": "f4fff4b7-d4ac-41b4-e804-57f19bd2dfe8"
      },
      "execution_count": 5,
      "outputs": [
        {
          "output_type": "execute_result",
          "data": {
            "text/plain": [
              "959976"
            ]
          },
          "metadata": {},
          "execution_count": 5
        }
      ]
    },
    {
      "cell_type": "code",
      "source": [
        "zipped_lists = zip(x_values, y_values)\n",
        "sorted_zipped_lists = sorted(zipped_lists, key=lambda x: x[0])\n",
        "sorted_values, sorted_other_list = zip(*sorted_zipped_lists)\n",
        "\n",
        "print(sorted_values)      # [1, 1, 2, 3, 4, 5, 6, 9]\n",
        "print(sorted_other_list)  # ['a', 'a', 'b', 'c', 'd', 'e', 'f', 'i']\n"
      ],
      "metadata": {
        "colab": {
          "base_uri": "https://localhost:8080/",
          "height": 236
        },
        "id": "q50WgE7qF4DO",
        "outputId": "cedb4106-c780-45a2-b04d-31894d373aa0"
      },
      "execution_count": 6,
      "outputs": [
        {
          "output_type": "error",
          "ename": "NameError",
          "evalue": "ignored",
          "traceback": [
            "\u001b[0;31m---------------------------------------------------------------------------\u001b[0m",
            "\u001b[0;31mNameError\u001b[0m                                 Traceback (most recent call last)",
            "\u001b[0;32m<ipython-input-6-ca7af2baceee>\u001b[0m in \u001b[0;36m<module>\u001b[0;34m\u001b[0m\n\u001b[0;32m----> 1\u001b[0;31m \u001b[0mzipped_lists\u001b[0m \u001b[0;34m=\u001b[0m \u001b[0mzip\u001b[0m\u001b[0;34m(\u001b[0m\u001b[0mx_values\u001b[0m\u001b[0;34m,\u001b[0m \u001b[0my_values\u001b[0m\u001b[0;34m)\u001b[0m\u001b[0;34m\u001b[0m\u001b[0;34m\u001b[0m\u001b[0m\n\u001b[0m\u001b[1;32m      2\u001b[0m \u001b[0msorted_zipped_lists\u001b[0m \u001b[0;34m=\u001b[0m \u001b[0msorted\u001b[0m\u001b[0;34m(\u001b[0m\u001b[0mzipped_lists\u001b[0m\u001b[0;34m,\u001b[0m \u001b[0mkey\u001b[0m\u001b[0;34m=\u001b[0m\u001b[0;32mlambda\u001b[0m \u001b[0mx\u001b[0m\u001b[0;34m:\u001b[0m \u001b[0mx\u001b[0m\u001b[0;34m[\u001b[0m\u001b[0;36m0\u001b[0m\u001b[0;34m]\u001b[0m\u001b[0;34m)\u001b[0m\u001b[0;34m\u001b[0m\u001b[0;34m\u001b[0m\u001b[0m\n\u001b[1;32m      3\u001b[0m \u001b[0msorted_values\u001b[0m\u001b[0;34m,\u001b[0m \u001b[0msorted_other_list\u001b[0m \u001b[0;34m=\u001b[0m \u001b[0mzip\u001b[0m\u001b[0;34m(\u001b[0m\u001b[0;34m*\u001b[0m\u001b[0msorted_zipped_lists\u001b[0m\u001b[0;34m)\u001b[0m\u001b[0;34m\u001b[0m\u001b[0;34m\u001b[0m\u001b[0m\n\u001b[1;32m      4\u001b[0m \u001b[0;34m\u001b[0m\u001b[0m\n\u001b[1;32m      5\u001b[0m \u001b[0mprint\u001b[0m\u001b[0;34m(\u001b[0m\u001b[0msorted_values\u001b[0m\u001b[0;34m)\u001b[0m      \u001b[0;31m# [1, 1, 2, 3, 4, 5, 6, 9]\u001b[0m\u001b[0;34m\u001b[0m\u001b[0;34m\u001b[0m\u001b[0m\n",
            "\u001b[0;31mNameError\u001b[0m: name 'x_values' is not defined"
          ]
        }
      ]
    },
    {
      "cell_type": "code",
      "source": [
        "import matplotlib.pyplot as plt\n",
        "from matplotlib.ticker import FuncFormatter\n",
        "from scipy.optimize import curve_fit\n",
        "import numpy as np\n",
        "\n",
        "# Define the logistic function\n",
        "def logistic(x, a, b, c, d):\n",
        "    return c + (d - c) / (1 + np.exp(-a * (x - b)))\n",
        "\n",
        "# Create lists for x and y values from the dictionary\n",
        "x_values = np.array(list(char_counts.keys()))\n",
        "y_values = np.array(list(char_counts.values()))\n",
        "y_values = y_values/sum(y_values)\n",
        "\n",
        "zipped_lists = zip(x_values, y_values)\n",
        "sorted_zipped_lists = sorted(zipped_lists, key=lambda x: x[0])\n",
        "x_values, y_values = zip(*sorted_zipped_lists)\n",
        "\n",
        "x_values = x_values[1:]\n",
        "y_values = y_values[1:]\n",
        "\n",
        "# Fit the function to the data\n",
        "popt, pcov = curve_fit(logistic, x_values, y_values)\n",
        "\n",
        "# Generate a series of x-values for the trendline\n",
        "x_trend = np.linspace(1, 15, 100)\n",
        "\n",
        "# Evaluate the logistic function for each x-value\n",
        "y_trend = logistic(x_trend, *popt)\n",
        "\n",
        "# Set figure size\n",
        "plt.figure(figsize=(16, 12))\n",
        "\n",
        "# Set font size and family\n",
        "plt.rcParams['font.size'] = 16\n",
        "plt.rcParams['font.family'] = 'serif'\n",
        "\n",
        "# Create scatter plot\n",
        "plt.scatter(x_values, y_values, color='red', marker='x', label='Data')\n",
        "\n",
        "# Connect scatter points with red line\n",
        "plt.plot(x_values, y_values, color='red', label='Line')\n",
        "\n",
        "# Define the percent formatter function\n",
        "def to_percent(y, position):\n",
        "    return str(int(100 * y)) + '%'\n",
        "\n",
        "# Set the y-axis tick format to percent\n",
        "plt.gca().yaxis.set_major_formatter(FuncFormatter(to_percent))\n",
        "\n",
        "# Adjust tick marks\n",
        "plt.xticks(np.arange(0, 15))\n",
        "\n",
        "plt.plot(x_trend, y_trend, label='Trendline', color = 'blue')\n",
        "\n",
        "# Color area under trendline\n",
        "plt.fill_between(x_trend, y_trend, color='blue', alpha=0.2)\n",
        "\n",
        "# Remove box\n",
        "plt.box(False)\n",
        "\n",
        "# Set x-axis and y-axis labels\n",
        "plt.xlabel(\"Word Length\")\n",
        "plt.ylabel(\"Probability (%)\")\n",
        "plt.xlim(1, 15)\n",
        "plt.ylim(0, 0.3)\n",
        "\n",
        "# Display the plot\n",
        "plt.show()\n"
      ],
      "metadata": {
        "id": "uXkOHt7HBiBh"
      },
      "execution_count": null,
      "outputs": []
    },
    {
      "cell_type": "code",
      "source": [
        "sum(y_values)"
      ],
      "metadata": {
        "id": "-hH8Be66MWqS"
      },
      "execution_count": null,
      "outputs": []
    },
    {
      "cell_type": "code",
      "source": [
        "# calculate the entropy for a dice roll\n",
        "from scipy.stats import entropy\n",
        "# discrete probabilities\n",
        "p = y_values\n",
        "# calculate entropy\n",
        "e = entropy(p, base = 2)\n",
        "# print the result\n",
        "print('entropy: %.3f bits' % e)"
      ],
      "metadata": {
        "id": "WVG-2-aEu0U5"
      },
      "execution_count": null,
      "outputs": []
    },
    {
      "cell_type": "code",
      "source": [
        "import numpy as np\n",
        "\n",
        "result = 0\n",
        "\n",
        "for i in range(len(p)):\n",
        "  result += -1 * (p[i]) * np.log2(p[i])"
      ],
      "metadata": {
        "id": "gh2r_jVW1KAe"
      },
      "execution_count": null,
      "outputs": []
    },
    {
      "cell_type": "code",
      "source": [
        "result"
      ],
      "metadata": {
        "id": "s5uLuGXc16nD"
      },
      "execution_count": null,
      "outputs": []
    },
    {
      "cell_type": "code",
      "source": [],
      "metadata": {
        "id": "UhZ0zcwM2BtC"
      },
      "execution_count": null,
      "outputs": []
    }
  ]
}