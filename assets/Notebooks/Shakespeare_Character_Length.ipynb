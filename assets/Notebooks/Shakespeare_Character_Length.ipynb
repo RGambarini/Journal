{
  "nbformat": 4,
  "nbformat_minor": 0,
  "metadata": {
    "colab": {
      "provenance": []
    },
    "kernelspec": {
      "name": "python3",
      "display_name": "Python 3"
    },
    "language_info": {
      "name": "python"
    }
  },
  "cells": [
    {
      "cell_type": "code",
      "execution_count": 5,
      "metadata": {
        "colab": {
          "base_uri": "https://localhost:8080/"
        },
        "id": "m6K0fDxfohmf",
        "outputId": "fd4bead0-0948-4858-e2cb-54e602d93d16"
      },
      "outputs": [
        {
          "output_type": "stream",
          "name": "stdout",
          "text": [
            "--2023-02-22 21:45:04--  https://www.gutenberg.org/ebooks/100.txt.utf-8\n",
            "Resolving www.gutenberg.org (www.gutenberg.org)... 152.19.134.47, 2610:28:3090:3000:0:bad:cafe:47\n",
            "Connecting to www.gutenberg.org (www.gutenberg.org)|152.19.134.47|:443... connected.\n",
            "HTTP request sent, awaiting response... 302 Found\n",
            "Location: https://www.gutenberg.org/cache/epub/100/pg100.txt [following]\n",
            "--2023-02-22 21:45:04--  https://www.gutenberg.org/cache/epub/100/pg100.txt\n",
            "Reusing existing connection to www.gutenberg.org:443.\n",
            "HTTP request sent, awaiting response... 200 OK\n",
            "Length: 5723486 (5.5M) [text/plain]\n",
            "Saving to: ‘Shakespeare.txt’\n",
            "\n",
            "Shakespeare.txt     100%[===================>]   5.46M  28.4MB/s    in 0.2s    \n",
            "\n",
            "2023-02-22 21:45:04 (28.4 MB/s) - ‘Shakespeare.txt’ saved [5723486/5723486]\n",
            "\n"
          ]
        }
      ],
      "source": [
        "!wget -O Shakespeare.txt https://www.gutenberg.org/ebooks/100.txt.utf-8\n",
        "!sed -i '1,83d' Shakespeare.txt\n",
        "!sed -i '176236,176587d' Shakespeare.txt"
      ]
    },
    {
      "cell_type": "code",
      "source": [
        "#open file in read mode\n",
        "file = open(\"Shakespeare.txt\", \"r\")\n",
        "\n",
        "#read the content of file\n",
        "data = file.read()\n",
        "\n",
        "#get the length of the data\n",
        "number_of_characters = len(data)\n",
        "\n",
        "print('Number of characters in \"The Complete Works of William Shakespeare\":', number_of_characters)"
      ],
      "metadata": {
        "colab": {
          "base_uri": "https://localhost:8080/"
        },
        "id": "iTiXOexRHEqY",
        "outputId": "5621825e-fd9a-4225-f8e7-60712e0bf1b5"
      },
      "execution_count": 12,
      "outputs": [
        {
          "output_type": "stream",
          "name": "stdout",
          "text": [
            "Number of characters in \"The Complete Works of William Shakespeare\": 5480868\n"
          ]
        }
      ]
    },
    {
      "cell_type": "code",
      "source": [],
      "metadata": {
        "id": "ugJm5ystHJe-"
      },
      "execution_count": null,
      "outputs": []
    }
  ]
}